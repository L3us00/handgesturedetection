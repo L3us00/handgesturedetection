{
 "cells": [
  {
   "cell_type": "code",
   "execution_count": 15,
   "metadata": {},
   "outputs": [],
   "source": [
    "import torch\n",
    "from torchvision import datasets, transforms\n",
    "from torch.utils.data import Dataset, DataLoader\n",
    "import pandas as pd\n",
    "import numpy as np"
   ]
  },
  {
   "cell_type": "code",
   "execution_count": 29,
   "metadata": {},
   "outputs": [],
   "source": [
    "# class0 = pd.read_csv('class0.csv')\n",
    "# class1 = pd.read_csv('class1.csv')\n",
    "# class2 = pd.read_csv('class2.csv')\n",
    "# class3 = pd.read_csv('class3.csv')\n",
    "class4 = pd.read_csv('dataset/class4.csv')\n",
    "class5 = pd.read_csv('dataset/class5.csv')"
   ]
  },
  {
   "cell_type": "code",
   "execution_count": 30,
   "metadata": {},
   "outputs": [],
   "source": [
    "class4 = np.genfromtxt('dataset/class4.csv', delimiter=',')\n",
    "class5 = np.genfromtxt('dataset/class5.csv', delimiter=',')"
   ]
  },
  {
   "cell_type": "code",
   "execution_count": 41,
   "metadata": {},
   "outputs": [
    {
     "name": "stdout",
     "output_type": "stream",
     "text": [
      "NaN values found\n",
      "NaN values found\n"
     ]
    }
   ],
   "source": [
    "combined = np.vstack((class4, class5))\n",
    "\n",
    "#eliminate NaN value\n",
    "# print(combined.shape[0])\n",
    "for i in range(combined.shape[0]):\n",
    "    if np.any(np.isnan(combined[i])):\n",
    "        print(f\"NaN values found\")\n"
   ]
  },
  {
   "cell_type": "code",
   "execution_count": null,
   "metadata": {},
   "outputs": [],
   "source": [
    "\n"
   ]
  }
 ],
 "metadata": {
  "kernelspec": {
   "display_name": "handgesture",
   "language": "python",
   "name": "python3"
  },
  "language_info": {
   "codemirror_mode": {
    "name": "ipython",
    "version": 3
   },
   "file_extension": ".py",
   "mimetype": "text/x-python",
   "name": "python",
   "nbconvert_exporter": "python",
   "pygments_lexer": "ipython3",
   "version": "3.12.3"
  }
 },
 "nbformat": 4,
 "nbformat_minor": 2
}
